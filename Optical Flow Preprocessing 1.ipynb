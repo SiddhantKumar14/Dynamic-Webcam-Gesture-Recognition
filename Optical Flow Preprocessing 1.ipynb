{
 "cells": [
  {
   "cell_type": "code",
   "execution_count": 2,
   "metadata": {},
   "outputs": [],
   "source": [
    "import cv2\n",
    "import numpy as np\n",
    "from numpy import *\n"
   ]
  },
  {
   "cell_type": "code",
   "execution_count": 5,
   "metadata": {},
   "outputs": [
    {
     "data": {
      "text/plain": [
       "'cap = cv2.VideoCapture(0)\\ndef select_point(event, x, y, flags, params):\\n    global point, point_selected, old_points\\n    if event == cv2.EVENT_LBUTTONDOWN:\\n        point = (x,y)\\n        point_selected = True\\n        old_points = np.array([[x,y]], dtype = np.float32)\\npoint = ()\\npoint_selected = False\\n\\ncv2.namedWindow(\"frame\")\\ncv2.setMouseCallback(\"frame\", select_point)\\n\\n_, old_frame = cap.read()\\nold_gray = cv2.cvtColor(old_frame, cv2.COLOR_BGR2GRAY)\\n\\nlk_params = dict(winSize = (15,15), maxLevel = 4, criteria = (cv2.TERM_CRITERIA_EPS | cv2.TERM_CRITERIA_COUNT, 10, 0.03))\\n\\nwhile True:\\n    _, frame = cap.read()\\n    gray_frame = cv2.cvtColor(frame, cv2.COLOR_BGR2GRAY)\\n    if point_selected == True:\\n        cv2.circle(frame, point, 5, (0,0,255), 3)\\n        \\n        new_points, status, error = cv2.calcOpticalFlowPyrLK(old_gray, gray_frame, old_points, None, **lk_params)\\n        old_gray = gray_frame.copy()\\n        x,y = new_points.ravel()\\n        cv2.circle(frame, (x,y), 5, (0,255,0), -1)\\n    cv2.imshow(\"frame\", frame)\\n    key = cv2.waitKey(1)\\n    if key==27:\\n        break\\ncap.release()\\ncv2.destroyAllWindows()\\n'"
      ]
     },
     "execution_count": 5,
     "metadata": {},
     "output_type": "execute_result"
    }
   ],
   "source": [
    "'''cap = cv2.VideoCapture(0)\n",
    "def select_point(event, x, y, flags, params):\n",
    "    global point, point_selected, old_points\n",
    "    if event == cv2.EVENT_LBUTTONDOWN:\n",
    "        point = (x,y)\n",
    "        point_selected = True\n",
    "        old_points = np.array([[x,y]], dtype = np.float32)\n",
    "point = ()\n",
    "point_selected = False\n",
    "\n",
    "cv2.namedWindow(\"frame\")\n",
    "cv2.setMouseCallback(\"frame\", select_point)\n",
    "\n",
    "_, old_frame = cap.read()\n",
    "old_gray = cv2.cvtColor(old_frame, cv2.COLOR_BGR2GRAY)\n",
    "\n",
    "lk_params = dict(winSize = (15,15), maxLevel = 4, criteria = (cv2.TERM_CRITERIA_EPS | cv2.TERM_CRITERIA_COUNT, 10, 0.03))\n",
    "\n",
    "while True:\n",
    "    _, frame = cap.read()\n",
    "    gray_frame = cv2.cvtColor(frame, cv2.COLOR_BGR2GRAY)\n",
    "    if point_selected == True:\n",
    "        cv2.circle(frame, point, 5, (0,0,255), 3)\n",
    "        \n",
    "        new_points, status, error = cv2.calcOpticalFlowPyrLK(old_gray, gray_frame, old_points, None, **lk_params)\n",
    "        old_gray = gray_frame.copy()\n",
    "        x,y = new_points.ravel()\n",
    "        cv2.circle(frame, (x,y), 5, (0,255,0), -1)\n",
    "    cv2.imshow(\"frame\", frame)\n",
    "    key = cv2.waitKey(1)\n",
    "    if key==27:\n",
    "        break\n",
    "cap.release()\n",
    "cv2.destroyAllWindows()\n",
    "'''\n",
    "#lucas kanade method for single point"
   ]
  },
  {
   "cell_type": "code",
   "execution_count": 10,
   "metadata": {},
   "outputs": [
    {
     "name": "stdout",
     "output_type": "stream",
     "text": [
      "00013.jpg\n"
     ]
    },
    {
     "data": {
      "text/plain": [
       "37"
      ]
     },
     "execution_count": 10,
     "metadata": {},
     "output_type": "execute_result"
    }
   ],
   "source": [
    "import os\n",
    "path = '/home/siddhant/Datasets/20bn Jester/Sliding Two Fingers Up/36/'\n",
    "\n",
    "video_sample = [i for i in os.listdir('/home/siddhant/Datasets/20bn Jester/Sliding Two Fingers Up/36')]\n",
    "print(video_sample[0])\n",
    "len(video_sample)"
   ]
  },
  {
   "cell_type": "code",
   "execution_count": null,
   "metadata": {},
   "outputs": [],
   "source": [
    "#cap = cv2.VideoCapture(\"/home/siddhant/videoplayback.mp4\")\n",
    "#cap = []\n",
    "sample_img_index = 0\n",
    "frame1 = cv2.imread(f\"/home/siddhant/Datasets/20bn Jester/Sliding Two Fingers Up/36/{video_sample[sample_img_index]}\")\n",
    "#ret, frame1 = cap.read()\n",
    "\n",
    "prvs = cv2.cvtColor(frame1,cv2.COLOR_BGR2GRAY)\n",
    "hsv = np.zeros_like(frame1)\n",
    "hsv[...,1] = 255\n",
    "\n",
    "while(1):\n",
    "    #ret, frame2 = cap.read()\n",
    "    sample_img_index += 1\n",
    "    frame2 = cv2.imread(f\"/home/siddhant/Datasets/20bn Jester/Sliding Two Fingers Up/36/{video_sample[sample_img_index]}\")\n",
    "    \n",
    "    next = cv2.cvtColor(frame2,cv2.COLOR_BGR2GRAY)\n",
    "\n",
    "    flow = cv2.calcOpticalFlowFarneback(prvs,next, None, 0.5, 3, 1, 3, 5, 1.2, 0)\n",
    "\n",
    "    mag, ang = cv2.cartToPolar(flow[...,0], flow[...,1])\n",
    "    hsv[...,0] = ang*180/np.pi/2\n",
    "    hsv[...,2] = cv2.normalize(mag,None,0,255,cv2.NORM_MINMAX)\n",
    "    rgb = cv2.cvtColor(hsv,cv2.COLOR_HSV2RGB)\n",
    "\n",
    "    cv2.imshow('frame2',rgb)\n",
    "    k = cv2.waitKey(30) & 0xff\n",
    "    if k == 27:\n",
    "        break\n",
    "    elif k == ord('s'):\n",
    "        cv2.imwrite('opticalfb.png',frame2)\n",
    "        cv2.imwrite('opticalhsv.png',rgb)\n",
    "    if sample_img_index == len(video_sample) - 1:\n",
    "        sample_img_index = 0\n",
    "    else:\n",
    "        prvs = next\n",
    "    \n",
    "#cap.release()\n",
    "cv2.destroyAllWindows()"
   ]
  },
  {
   "cell_type": "code",
   "execution_count": null,
   "metadata": {},
   "outputs": [],
   "source": []
  }
 ],
 "metadata": {
  "kernelspec": {
   "display_name": "Python (torchenv)",
   "language": "python",
   "name": "torchenv"
  },
  "language_info": {
   "codemirror_mode": {
    "name": "ipython",
    "version": 3
   },
   "file_extension": ".py",
   "mimetype": "text/x-python",
   "name": "python",
   "nbconvert_exporter": "python",
   "pygments_lexer": "ipython3",
   "version": "3.6.9"
  }
 },
 "nbformat": 4,
 "nbformat_minor": 2
}
